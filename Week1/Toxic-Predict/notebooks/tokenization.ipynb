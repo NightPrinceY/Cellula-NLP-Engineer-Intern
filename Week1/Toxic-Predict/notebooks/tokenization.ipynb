{
 "cells": [
  {
   "cell_type": "code",
   "execution_count": 6,
   "id": "8d0e5daf",
   "metadata": {},
   "outputs": [
    {
     "name": "stdout",
     "output_type": "stream",
     "text": [
      "Train shape: (1621, 150)\n",
      "Test shape: (406, 150)\n"
     ]
    }
   ],
   "source": [
    "import pandas as pd\n",
    "from sklearn.model_selection import train_test_split\n",
    "from tensorflow.keras.preprocessing.text import Tokenizer\n",
    "from tensorflow.keras.preprocessing.sequence import pad_sequences\n",
    "import json\n",
    "\n",
    "# 1. Load Data\n",
    "df = pd.read_csv(r'C:\\Users\\NightPrince\\OneDrive\\Desktop\\Cellula-Internship\\Week1\\Toxic-Predict\\data\\cleaned.csv')\n",
    "df['text'] = df['query'] + ' ' + df['image descriptions']\n",
    "\n",
    "X_text = df['text'].values\n",
    "y = df['Toxic Category Encoded'].values\n",
    "\n",
    "# 2. Split Texts (Before tokenization)\n",
    "X_train_texts, X_test_texts, y_train, y_test = train_test_split(\n",
    "    X_text, y, test_size=0.2, random_state=42, stratify=y\n",
    ")\n",
    "\n",
    "# 3. Tokenizer\n",
    "max_words = 10000\n",
    "max_len = 150\n",
    "tokenizer = Tokenizer(num_words=max_words, oov_token=\"<OOV>\")\n",
    "tokenizer.fit_on_texts(X_train_texts)\n",
    "\n",
    "# 4. Convert Texts to Sequences\n",
    "X_train_seq = tokenizer.texts_to_sequences(X_train_texts)\n",
    "X_test_seq = tokenizer.texts_to_sequences(X_test_texts)\n",
    "\n",
    "# 5. Pad Sequences\n",
    "X_train_pad = pad_sequences(X_train_seq, maxlen=max_len, padding='post', truncating='post')\n",
    "X_test_pad = pad_sequences(X_test_seq, maxlen=max_len, padding='post', truncating='post')\n",
    "\n",
    "print(\"Train shape:\", X_train_pad.shape)\n",
    "print(\"Test shape:\", X_test_pad.shape)\n",
    "\n",
    "# 6. Save Tokenizer\n",
    "tokenizer_json = tokenizer.to_json()\n",
    "with open(r'C:\\Users\\NightPrince\\OneDrive\\Desktop\\Cellula-Internship\\Week1\\Toxic-Predict\\data\\tokenizer.json', 'w', encoding='utf-8') as f:\n",
    "    f.write(tokenizer_json)\n"
   ]
  },
  {
   "cell_type": "code",
   "execution_count": null,
   "id": "9e7cedbb",
   "metadata": {},
   "outputs": [],
   "source": []
  }
 ],
 "metadata": {
  "kernelspec": {
   "display_name": "College",
   "language": "python",
   "name": "python3"
  },
  "language_info": {
   "codemirror_mode": {
    "name": "ipython",
    "version": 3
   },
   "file_extension": ".py",
   "mimetype": "text/x-python",
   "name": "python",
   "nbconvert_exporter": "python",
   "pygments_lexer": "ipython3",
   "version": "3.10.16"
  }
 },
 "nbformat": 4,
 "nbformat_minor": 5
}
